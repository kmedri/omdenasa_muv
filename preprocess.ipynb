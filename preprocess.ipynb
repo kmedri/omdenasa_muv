{
 "cells": [
  {
   "cell_type": "code",
   "execution_count": 27,
   "metadata": {},
   "outputs": [],
   "source": [
    "# data manipulation\n",
    "# conda install -c conda-forge pandas\n",
    "import pandas as pd\n",
    "# conda install -c conda-forge numpy\n",
    "import numpy as np\n",
    "# conda install -c conda-forge openpyxl\n",
    "import openpyxl\n",
    "# conda install -c conda-forge missingno\n",
    "import missingno as msno\n",
    "import os\n",
    "import glob\n"
   ]
  },
  {
   "cell_type": "code",
   "execution_count": 28,
   "metadata": {},
   "outputs": [
    {
     "data": {
      "text/plain": [
       "'c:\\\\Users\\\\kmedr\\\\My Drive\\\\Projects\\\\omdenasa_muv'"
      ]
     },
     "execution_count": 28,
     "metadata": {},
     "output_type": "execute_result"
    }
   ],
   "source": [
    "os.getcwd()"
   ]
  },
  {
   "cell_type": "code",
   "execution_count": 29,
   "metadata": {},
   "outputs": [],
   "source": [
    "file_list = os.path.join(\"C:/Users/kmedr/My Drive/Projects/omdenasa_muv/merge_data\", \"*.csv\")\n",
    "file_list = glob.glob(file_list)"
   ]
  },
  {
   "cell_type": "code",
   "execution_count": 34,
   "metadata": {},
   "outputs": [
    {
     "data": {
      "text/html": [
       "<div>\n",
       "<style scoped>\n",
       "    .dataframe tbody tr th:only-of-type {\n",
       "        vertical-align: middle;\n",
       "    }\n",
       "\n",
       "    .dataframe tbody tr th {\n",
       "        vertical-align: top;\n",
       "    }\n",
       "\n",
       "    .dataframe thead th {\n",
       "        text-align: right;\n",
       "    }\n",
       "</style>\n",
       "<table border=\"1\" class=\"dataframe\">\n",
       "  <thead>\n",
       "    <tr style=\"text-align: right;\">\n",
       "      <th></th>\n",
       "      <th>Reported Date</th>\n",
       "      <th>Suburb - Incident</th>\n",
       "      <th>Postcode - Incident</th>\n",
       "      <th>Offence Level 1 Description</th>\n",
       "      <th>Offence Level 2 Description</th>\n",
       "      <th>Offence Level 3 Description</th>\n",
       "      <th>Offence count</th>\n",
       "    </tr>\n",
       "  </thead>\n",
       "  <tbody>\n",
       "    <tr>\n",
       "      <th>0</th>\n",
       "      <td>1/07/2010</td>\n",
       "      <td>ADELAIDE</td>\n",
       "      <td>5000</td>\n",
       "      <td>OFFENCES AGAINST PROPERTY</td>\n",
       "      <td>FRAUD DECEPTION AND RELATED OFFENCES</td>\n",
       "      <td>Obtain benefit by deception</td>\n",
       "      <td>2.0</td>\n",
       "    </tr>\n",
       "    <tr>\n",
       "      <th>1</th>\n",
       "      <td>1/07/2010</td>\n",
       "      <td>ADELAIDE</td>\n",
       "      <td>5000</td>\n",
       "      <td>OFFENCES AGAINST PROPERTY</td>\n",
       "      <td>PROPERTY DAMAGE AND ENVIRONMENTAL</td>\n",
       "      <td>Other property damage and environmental</td>\n",
       "      <td>2.0</td>\n",
       "    </tr>\n",
       "    <tr>\n",
       "      <th>2</th>\n",
       "      <td>1/07/2010</td>\n",
       "      <td>ADELAIDE</td>\n",
       "      <td>5000</td>\n",
       "      <td>OFFENCES AGAINST PROPERTY</td>\n",
       "      <td>SERIOUS CRIMINAL TRESPASS</td>\n",
       "      <td>SCT - Non Residence</td>\n",
       "      <td>1.0</td>\n",
       "    </tr>\n",
       "    <tr>\n",
       "      <th>3</th>\n",
       "      <td>1/07/2010</td>\n",
       "      <td>ADELAIDE</td>\n",
       "      <td>5000</td>\n",
       "      <td>OFFENCES AGAINST PROPERTY</td>\n",
       "      <td>THEFT AND RELATED OFFENCES</td>\n",
       "      <td>Other theft</td>\n",
       "      <td>6.0</td>\n",
       "    </tr>\n",
       "    <tr>\n",
       "      <th>4</th>\n",
       "      <td>1/07/2010</td>\n",
       "      <td>ADELAIDE</td>\n",
       "      <td>5000</td>\n",
       "      <td>OFFENCES AGAINST PROPERTY</td>\n",
       "      <td>THEFT AND RELATED OFFENCES</td>\n",
       "      <td>Theft from shop</td>\n",
       "      <td>3.0</td>\n",
       "    </tr>\n",
       "    <tr>\n",
       "      <th>...</th>\n",
       "      <td>...</td>\n",
       "      <td>...</td>\n",
       "      <td>...</td>\n",
       "      <td>...</td>\n",
       "      <td>...</td>\n",
       "      <td>...</td>\n",
       "      <td>...</td>\n",
       "    </tr>\n",
       "    <tr>\n",
       "      <th>1121729</th>\n",
       "      <td>30/06/2022</td>\n",
       "      <td>WILLASTON</td>\n",
       "      <td>5118</td>\n",
       "      <td>OFFENCES AGAINST THE PERSON</td>\n",
       "      <td>ACTS INTENDED TO CAUSE INJURY</td>\n",
       "      <td>Serious Assault resulting in injury</td>\n",
       "      <td>1.0</td>\n",
       "    </tr>\n",
       "    <tr>\n",
       "      <th>1121730</th>\n",
       "      <td>30/06/2022</td>\n",
       "      <td>WOODCROFT</td>\n",
       "      <td>5162</td>\n",
       "      <td>OFFENCES AGAINST PROPERTY</td>\n",
       "      <td>THEFT AND RELATED OFFENCES</td>\n",
       "      <td>Theft from motor vehicle</td>\n",
       "      <td>1.0</td>\n",
       "    </tr>\n",
       "    <tr>\n",
       "      <th>1121731</th>\n",
       "      <td>30/06/2022</td>\n",
       "      <td>WOODVILLE NORTH</td>\n",
       "      <td>5012</td>\n",
       "      <td>OFFENCES AGAINST PROPERTY</td>\n",
       "      <td>THEFT AND RELATED OFFENCES</td>\n",
       "      <td>Other theft</td>\n",
       "      <td>1.0</td>\n",
       "    </tr>\n",
       "    <tr>\n",
       "      <th>1121732</th>\n",
       "      <td>30/06/2022</td>\n",
       "      <td>NaN</td>\n",
       "      <td>NaN</td>\n",
       "      <td>OFFENCES AGAINST PROPERTY</td>\n",
       "      <td>FRAUD DECEPTION AND RELATED OFFENCES</td>\n",
       "      <td>Obtain benefit by deception</td>\n",
       "      <td>4.0</td>\n",
       "    </tr>\n",
       "    <tr>\n",
       "      <th>1121733</th>\n",
       "      <td>30/06/2022</td>\n",
       "      <td>NaN</td>\n",
       "      <td>NaN</td>\n",
       "      <td>OFFENCES AGAINST PROPERTY</td>\n",
       "      <td>PROPERTY DAMAGE AND ENVIRONMENTAL</td>\n",
       "      <td>Other property damage and environmental</td>\n",
       "      <td>1.0</td>\n",
       "    </tr>\n",
       "  </tbody>\n",
       "</table>\n",
       "<p>1121734 rows × 7 columns</p>\n",
       "</div>"
      ],
      "text/plain": [
       "        Reported Date Suburb - Incident Postcode - Incident  \\\n",
       "0           1/07/2010          ADELAIDE                5000   \n",
       "1           1/07/2010          ADELAIDE                5000   \n",
       "2           1/07/2010          ADELAIDE                5000   \n",
       "3           1/07/2010          ADELAIDE                5000   \n",
       "4           1/07/2010          ADELAIDE                5000   \n",
       "...               ...               ...                 ...   \n",
       "1121729    30/06/2022         WILLASTON                5118   \n",
       "1121730    30/06/2022         WOODCROFT                5162   \n",
       "1121731    30/06/2022   WOODVILLE NORTH                5012   \n",
       "1121732    30/06/2022               NaN                 NaN   \n",
       "1121733    30/06/2022               NaN                 NaN   \n",
       "\n",
       "         Offence Level 1 Description           Offence Level 2 Description  \\\n",
       "0          OFFENCES AGAINST PROPERTY  FRAUD DECEPTION AND RELATED OFFENCES   \n",
       "1          OFFENCES AGAINST PROPERTY     PROPERTY DAMAGE AND ENVIRONMENTAL   \n",
       "2          OFFENCES AGAINST PROPERTY             SERIOUS CRIMINAL TRESPASS   \n",
       "3          OFFENCES AGAINST PROPERTY            THEFT AND RELATED OFFENCES   \n",
       "4          OFFENCES AGAINST PROPERTY            THEFT AND RELATED OFFENCES   \n",
       "...                              ...                                   ...   \n",
       "1121729  OFFENCES AGAINST THE PERSON         ACTS INTENDED TO CAUSE INJURY   \n",
       "1121730    OFFENCES AGAINST PROPERTY            THEFT AND RELATED OFFENCES   \n",
       "1121731    OFFENCES AGAINST PROPERTY            THEFT AND RELATED OFFENCES   \n",
       "1121732    OFFENCES AGAINST PROPERTY  FRAUD DECEPTION AND RELATED OFFENCES   \n",
       "1121733    OFFENCES AGAINST PROPERTY     PROPERTY DAMAGE AND ENVIRONMENTAL   \n",
       "\n",
       "                     Offence Level 3 Description  Offence count  \n",
       "0                    Obtain benefit by deception            2.0  \n",
       "1        Other property damage and environmental            2.0  \n",
       "2                            SCT - Non Residence            1.0  \n",
       "3                                    Other theft            6.0  \n",
       "4                                Theft from shop            3.0  \n",
       "...                                          ...            ...  \n",
       "1121729      Serious Assault resulting in injury            1.0  \n",
       "1121730                 Theft from motor vehicle            1.0  \n",
       "1121731                              Other theft            1.0  \n",
       "1121732              Obtain benefit by deception            4.0  \n",
       "1121733  Other property damage and environmental            1.0  \n",
       "\n",
       "[1121734 rows x 7 columns]"
      ]
     },
     "execution_count": 34,
     "metadata": {},
     "output_type": "execute_result"
    }
   ],
   "source": [
    "df_crime_rate = pd.concat([pd.read_csv(f) for f in file_list ], ignore_index=True)\n",
    "df_crime_rate"
   ]
  },
  {
   "cell_type": "code",
   "execution_count": 81,
   "metadata": {},
   "outputs": [
    {
     "data": {
      "text/html": [
       "<div>\n",
       "<style scoped>\n",
       "    .dataframe tbody tr th:only-of-type {\n",
       "        vertical-align: middle;\n",
       "    }\n",
       "\n",
       "    .dataframe tbody tr th {\n",
       "        vertical-align: top;\n",
       "    }\n",
       "\n",
       "    .dataframe thead th {\n",
       "        text-align: right;\n",
       "    }\n",
       "</style>\n",
       "<table border=\"1\" class=\"dataframe\">\n",
       "  <thead>\n",
       "    <tr style=\"text-align: right;\">\n",
       "      <th></th>\n",
       "      <th>Reported Date</th>\n",
       "      <th>Suburb - Incident</th>\n",
       "      <th>Postcode - Incident</th>\n",
       "      <th>Offence Level 1 Description</th>\n",
       "      <th>Offence Level 2 Description</th>\n",
       "      <th>Offence Level 3 Description</th>\n",
       "      <th>Offence count</th>\n",
       "    </tr>\n",
       "  </thead>\n",
       "  <tbody>\n",
       "    <tr>\n",
       "      <th>0</th>\n",
       "      <td>1/07/2010</td>\n",
       "      <td>ADELAIDE</td>\n",
       "      <td>5000</td>\n",
       "      <td>OFFENCES AGAINST PROPERTY</td>\n",
       "      <td>FRAUD DECEPTION AND RELATED OFFENCES</td>\n",
       "      <td>Obtain benefit by deception</td>\n",
       "      <td>2.0</td>\n",
       "    </tr>\n",
       "    <tr>\n",
       "      <th>1</th>\n",
       "      <td>1/07/2010</td>\n",
       "      <td>ADELAIDE</td>\n",
       "      <td>5000</td>\n",
       "      <td>OFFENCES AGAINST PROPERTY</td>\n",
       "      <td>PROPERTY DAMAGE AND ENVIRONMENTAL</td>\n",
       "      <td>Other property damage and environmental</td>\n",
       "      <td>2.0</td>\n",
       "    </tr>\n",
       "    <tr>\n",
       "      <th>2</th>\n",
       "      <td>1/07/2010</td>\n",
       "      <td>ADELAIDE</td>\n",
       "      <td>5000</td>\n",
       "      <td>OFFENCES AGAINST PROPERTY</td>\n",
       "      <td>SERIOUS CRIMINAL TRESPASS</td>\n",
       "      <td>SCT - Non Residence</td>\n",
       "      <td>1.0</td>\n",
       "    </tr>\n",
       "    <tr>\n",
       "      <th>3</th>\n",
       "      <td>1/07/2010</td>\n",
       "      <td>ADELAIDE</td>\n",
       "      <td>5000</td>\n",
       "      <td>OFFENCES AGAINST PROPERTY</td>\n",
       "      <td>THEFT AND RELATED OFFENCES</td>\n",
       "      <td>Other theft</td>\n",
       "      <td>6.0</td>\n",
       "    </tr>\n",
       "    <tr>\n",
       "      <th>4</th>\n",
       "      <td>1/07/2010</td>\n",
       "      <td>ADELAIDE</td>\n",
       "      <td>5000</td>\n",
       "      <td>OFFENCES AGAINST PROPERTY</td>\n",
       "      <td>THEFT AND RELATED OFFENCES</td>\n",
       "      <td>Theft from shop</td>\n",
       "      <td>3.0</td>\n",
       "    </tr>\n",
       "    <tr>\n",
       "      <th>...</th>\n",
       "      <td>...</td>\n",
       "      <td>...</td>\n",
       "      <td>...</td>\n",
       "      <td>...</td>\n",
       "      <td>...</td>\n",
       "      <td>...</td>\n",
       "      <td>...</td>\n",
       "    </tr>\n",
       "    <tr>\n",
       "      <th>1116588</th>\n",
       "      <td>30/06/2022</td>\n",
       "      <td>WHYALLA STUART</td>\n",
       "      <td>5608</td>\n",
       "      <td>OFFENCES AGAINST PROPERTY</td>\n",
       "      <td>SERIOUS CRIMINAL TRESPASS</td>\n",
       "      <td>Other unlawful entry with intent</td>\n",
       "      <td>1.0</td>\n",
       "    </tr>\n",
       "    <tr>\n",
       "      <th>1116589</th>\n",
       "      <td>30/06/2022</td>\n",
       "      <td>WILLASTON</td>\n",
       "      <td>5118</td>\n",
       "      <td>OFFENCES AGAINST PROPERTY</td>\n",
       "      <td>PROPERTY DAMAGE AND ENVIRONMENTAL</td>\n",
       "      <td>Other property damage and environmental</td>\n",
       "      <td>1.0</td>\n",
       "    </tr>\n",
       "    <tr>\n",
       "      <th>1116590</th>\n",
       "      <td>30/06/2022</td>\n",
       "      <td>WILLASTON</td>\n",
       "      <td>5118</td>\n",
       "      <td>OFFENCES AGAINST THE PERSON</td>\n",
       "      <td>ACTS INTENDED TO CAUSE INJURY</td>\n",
       "      <td>Serious Assault resulting in injury</td>\n",
       "      <td>1.0</td>\n",
       "    </tr>\n",
       "    <tr>\n",
       "      <th>1116591</th>\n",
       "      <td>30/06/2022</td>\n",
       "      <td>WOODCROFT</td>\n",
       "      <td>5162</td>\n",
       "      <td>OFFENCES AGAINST PROPERTY</td>\n",
       "      <td>THEFT AND RELATED OFFENCES</td>\n",
       "      <td>Theft from motor vehicle</td>\n",
       "      <td>1.0</td>\n",
       "    </tr>\n",
       "    <tr>\n",
       "      <th>1116592</th>\n",
       "      <td>30/06/2022</td>\n",
       "      <td>WOODVILLE NORTH</td>\n",
       "      <td>5012</td>\n",
       "      <td>OFFENCES AGAINST PROPERTY</td>\n",
       "      <td>THEFT AND RELATED OFFENCES</td>\n",
       "      <td>Other theft</td>\n",
       "      <td>1.0</td>\n",
       "    </tr>\n",
       "  </tbody>\n",
       "</table>\n",
       "<p>1116593 rows × 7 columns</p>\n",
       "</div>"
      ],
      "text/plain": [
       "        Reported Date Suburb - Incident Postcode - Incident  \\\n",
       "0           1/07/2010          ADELAIDE                5000   \n",
       "1           1/07/2010          ADELAIDE                5000   \n",
       "2           1/07/2010          ADELAIDE                5000   \n",
       "3           1/07/2010          ADELAIDE                5000   \n",
       "4           1/07/2010          ADELAIDE                5000   \n",
       "...               ...               ...                 ...   \n",
       "1116588    30/06/2022    WHYALLA STUART                5608   \n",
       "1116589    30/06/2022         WILLASTON                5118   \n",
       "1116590    30/06/2022         WILLASTON                5118   \n",
       "1116591    30/06/2022         WOODCROFT                5162   \n",
       "1116592    30/06/2022   WOODVILLE NORTH                5012   \n",
       "\n",
       "         Offence Level 1 Description           Offence Level 2 Description  \\\n",
       "0          OFFENCES AGAINST PROPERTY  FRAUD DECEPTION AND RELATED OFFENCES   \n",
       "1          OFFENCES AGAINST PROPERTY     PROPERTY DAMAGE AND ENVIRONMENTAL   \n",
       "2          OFFENCES AGAINST PROPERTY             SERIOUS CRIMINAL TRESPASS   \n",
       "3          OFFENCES AGAINST PROPERTY            THEFT AND RELATED OFFENCES   \n",
       "4          OFFENCES AGAINST PROPERTY            THEFT AND RELATED OFFENCES   \n",
       "...                              ...                                   ...   \n",
       "1116588    OFFENCES AGAINST PROPERTY             SERIOUS CRIMINAL TRESPASS   \n",
       "1116589    OFFENCES AGAINST PROPERTY     PROPERTY DAMAGE AND ENVIRONMENTAL   \n",
       "1116590  OFFENCES AGAINST THE PERSON         ACTS INTENDED TO CAUSE INJURY   \n",
       "1116591    OFFENCES AGAINST PROPERTY            THEFT AND RELATED OFFENCES   \n",
       "1116592    OFFENCES AGAINST PROPERTY            THEFT AND RELATED OFFENCES   \n",
       "\n",
       "                     Offence Level 3 Description  Offence count  \n",
       "0                    Obtain benefit by deception            2.0  \n",
       "1        Other property damage and environmental            2.0  \n",
       "2                            SCT - Non Residence            1.0  \n",
       "3                                    Other theft            6.0  \n",
       "4                                Theft from shop            3.0  \n",
       "...                                          ...            ...  \n",
       "1116588         Other unlawful entry with intent            1.0  \n",
       "1116589  Other property damage and environmental            1.0  \n",
       "1116590      Serious Assault resulting in injury            1.0  \n",
       "1116591                 Theft from motor vehicle            1.0  \n",
       "1116592                              Other theft            1.0  \n",
       "\n",
       "[1116593 rows x 7 columns]"
      ]
     },
     "execution_count": 81,
     "metadata": {},
     "output_type": "execute_result"
    }
   ],
   "source": [
    "df_crime_rate"
   ]
  },
  {
   "cell_type": "code",
   "execution_count": 35,
   "metadata": {},
   "outputs": [
    {
     "data": {
      "image/png": "[encoded data removed]",
      "text/plain": [
       "<Figure size 2500x1000 with 2 Axes>"
      ]
     },
     "metadata": {},
     "output_type": "display_data"
    }
   ],
   "source": [
    "msno.matrix(df_crime_rate);"
   ]
  },
  {
   "cell_type": "code",
   "execution_count": 32,
   "metadata": {},
   "outputs": [
    {
     "data": {
      "text/plain": [
       "Postcode - Incident            5088\n",
       "Suburb - Incident              3090\n",
       "Reported Date                    10\n",
       "Offence Level 1 Description      10\n",
       "Offence Level 2 Description      10\n",
       "Offence Level 3 Description      10\n",
       "Offence count                    10\n",
       "dtype: int64"
      ]
     },
     "execution_count": 32,
     "metadata": {},
     "output_type": "execute_result"
    }
   ],
   "source": [
    "df_crime_rate.isnull().sum().sort_values(ascending=False)"
   ]
  },
  {
   "cell_type": "code",
   "execution_count": 37,
   "metadata": {},
   "outputs": [
    {
     "name": "stdout",
     "output_type": "stream",
     "text": [
      "We have a total of: 8228 missing values.\n"
     ]
    }
   ],
   "source": [
    "print(\n",
    "    'We have a total of:',\n",
    "    sum(df_crime_rate.isnull().sum().sort_values(ascending=False)),\n",
    "    'missing values.'\n",
    "    )"
   ]
  },
  {
   "cell_type": "code",
   "execution_count": 39,
   "metadata": {},
   "outputs": [
    {
     "name": "stdout",
     "output_type": "stream",
     "text": [
      "We have dropped only 0.46% of the rows.\n"
     ]
    }
   ],
   "source": [
    "length_before = len(df_crime_rate)\n",
    "df_crime_rate.dropna(inplace=True)\n",
    "lnth = (length_before - len(df_crime_rate)) / length_before\n",
    "df_crime_rate.reset_index(drop=True)\n",
    "print(f'We have dropped only {lnth:.2%} of the rows.')"
   ]
  },
  {
   "cell_type": "code",
   "execution_count": 40,
   "metadata": {},
   "outputs": [
    {
     "name": "stdout",
     "output_type": "stream",
     "text": [
      "We have a total of: 0 missing values.\n"
     ]
    }
   ],
   "source": [
    "print(\n",
    "    'We have a total of:',\n",
    "    sum(df_crime_rate.isnull().sum().sort_values(ascending=False)),\n",
    "    'missing values.'\n",
    "    )"
   ]
  },
  {
   "cell_type": "code",
   "execution_count": 41,
   "metadata": {},
   "outputs": [
    {
     "name": "stdout",
     "output_type": "stream",
     "text": [
      "Number of duplicated rows: 1\n",
      "Rows and columns: (1116594, 7)\n"
     ]
    }
   ],
   "source": [
    "print(f'Number of duplicated rows:', df_crime_rate.duplicated().sum())\n",
    "print(f'Rows and columns:', df_crime_rate.shape)"
   ]
  },
  {
   "cell_type": "code",
   "execution_count": 42,
   "metadata": {},
   "outputs": [
    {
     "name": "stdout",
     "output_type": "stream",
     "text": [
      "Number of duplicated rows: 0\n",
      "Rows and columns: (1116593, 7)\n"
     ]
    }
   ],
   "source": [
    "df_crime_rate.drop_duplicates(inplace=True)\n",
    "df_crime_rate.reset_index(inplace=True, drop=True)\n",
    "print(f'Number of duplicated rows:', df_crime_rate.duplicated().sum())\n",
    "print(f'Rows and columns:', df_crime_rate.shape)"
   ]
  },
  {
   "cell_type": "code",
   "execution_count": 43,
   "metadata": {},
   "outputs": [
    {
     "data": {
      "image/png": "[encoded data removed]",
      "text/plain": [
       "<Figure size 2500x1000 with 2 Axes>"
      ]
     },
     "metadata": {},
     "output_type": "display_data"
    }
   ],
   "source": [
    "msno.matrix(df_crime_rate);"
   ]
  },
  {
   "cell_type": "code",
   "execution_count": 47,
   "metadata": {},
   "outputs": [],
   "source": [
    "df_crime_rate.to_parquet('data/crime_rate_2010_2021.parquet', engine='fastparquet', compression='UNCOMPRESSED')"
   ]
  },
  {
   "cell_type": "code",
   "execution_count": 147,
   "metadata": {},
   "outputs": [],
   "source": [
    "# import pandas\n",
    "import pandas as pd\n",
    "# import sweetviz\n",
    "import sweetviz as sv\n",
    "# load the parquet on the google drive into a dataframe\n",
    "df = pd.read_parquet(\"data\\crime_rate_2010_2021.parquet\")"
   ]
  },
  {
   "cell_type": "code",
   "execution_count": 148,
   "metadata": {},
   "outputs": [
    {
     "name": "stdout",
     "output_type": "stream",
     "text": [
      "<class 'pandas.core.frame.DataFrame'>\n",
      "RangeIndex: 1116593 entries, 0 to 1116592\n",
      "Data columns (total 7 columns):\n",
      " #   Column                       Non-Null Count    Dtype  \n",
      "---  ------                       --------------    -----  \n",
      " 0   Reported Date                1116593 non-null  object \n",
      " 1   Suburb - Incident            1116593 non-null  object \n",
      " 2   Postcode - Incident          1116593 non-null  object \n",
      " 3   Offence Level 1 Description  1116593 non-null  object \n",
      " 4   Offence Level 2 Description  1116593 non-null  object \n",
      " 5   Offence Level 3 Description  1116593 non-null  object \n",
      " 6   Offence count                1116593 non-null  float64\n",
      "dtypes: float64(1), object(6)\n",
      "memory usage: 59.6+ MB\n"
     ]
    }
   ],
   "source": [
    "df.info()"
   ]
  },
  {
   "cell_type": "code",
   "execution_count": 149,
   "metadata": {},
   "outputs": [
    {
     "data": {
      "text/plain": [
       "Index(['Reported Date', 'Suburb - Incident', 'Postcode - Incident',\n",
       "       'Offence Level 1 Description', 'Offence Level 2 Description',\n",
       "       'Offence Level 3 Description', 'Offence count'],\n",
       "      dtype='object')"
      ]
     },
     "execution_count": 149,
     "metadata": {},
     "output_type": "execute_result"
    }
   ],
   "source": [
    "df.columns"
   ]
  },
  {
   "cell_type": "code",
   "execution_count": 150,
   "metadata": {},
   "outputs": [
    {
     "data": {
      "text/plain": [
       "Index(['reported_date', 'suburb_incident', 'postcode_incident',\n",
       "       'offence_level_1_description', 'offence_level_2_description',\n",
       "       'offence_level_3_description', 'offence_count'],\n",
       "      dtype='object')"
      ]
     },
     "execution_count": 150,
     "metadata": {},
     "output_type": "execute_result"
    }
   ],
   "source": [
    "df.columns= df.columns.str.lower()\n",
    "df.columns = df.columns.str.replace(' - ', '_')\n",
    "df.columns = df.columns.str.replace(' ', '_')\n",
    "df.columns"
   ]
  },
  {
   "cell_type": "code",
   "execution_count": 151,
   "metadata": {},
   "outputs": [
    {
     "name": "stdout",
     "output_type": "stream",
     "text": [
      "<class 'pandas.core.frame.DataFrame'>\n",
      "RangeIndex: 1116593 entries, 0 to 1116592\n",
      "Data columns (total 7 columns):\n",
      " #   Column                       Non-Null Count    Dtype         \n",
      "---  ------                       --------------    -----         \n",
      " 0   reported_date                1116593 non-null  datetime64[ns]\n",
      " 1   suburb_incident              1116593 non-null  object        \n",
      " 2   postcode_incident            1116593 non-null  object        \n",
      " 3   offence_level_1_description  1116593 non-null  object        \n",
      " 4   offence_level_2_description  1116593 non-null  object        \n",
      " 5   offence_level_3_description  1116593 non-null  object        \n",
      " 6   offence_count                1116593 non-null  int32         \n",
      "dtypes: datetime64[ns](1), int32(1), object(5)\n",
      "memory usage: 55.4+ MB\n"
     ]
    }
   ],
   "source": [
    "df['reported_date'] = pd.to_datetime(df['reported_date'], format='%d/%m/%Y')\n",
    "df['offence_count'] = df['offence_count'].astype('int')\n",
    "df.info()"
   ]
  },
  {
   "cell_type": "code",
   "execution_count": 152,
   "metadata": {},
   "outputs": [
    {
     "name": "stdout",
     "output_type": "stream",
     "text": [
      "reported_date : 4383\n",
      "\n",
      "\n",
      "suburb_incident : 1746\n",
      "\n",
      "\n",
      "postcode_incident : 447\n",
      "\n",
      "\n",
      "offence_level_1_description : 2\n",
      "offence_level_1_description : ['OFFENCES AGAINST PROPERTY' 'OFFENCES AGAINST THE PERSON']\n",
      "\n",
      "\n",
      "offence_level_2_description : 9\n",
      "offence_level_2_description : ['FRAUD DECEPTION AND RELATED OFFENCES'\n",
      " 'PROPERTY DAMAGE AND ENVIRONMENTAL' 'SERIOUS CRIMINAL TRESPASS'\n",
      " 'THEFT AND RELATED OFFENCES' 'ACTS INTENDED TO CAUSE INJURY'\n",
      " 'ROBBERY AND RELATED OFFENCES' 'SEXUAL ASSAULT AND RELATED OFFENCES'\n",
      " 'OTHER OFFENCES AGAINST THE PERSON' 'HOMICIDE AND RELATED OFFENCES']\n",
      "\n",
      "\n",
      "offence_level_3_description : 29\n",
      "offence_level_3_description : ['Obtain benefit by deception' 'Other property damage and environmental'\n",
      " 'SCT - Non Residence' 'Other theft' 'Theft from shop' 'Common Assault'\n",
      " 'Property damage by fire or explosion'\n",
      " 'Serious Assault resulting in injury' 'SCT - Residence'\n",
      " 'Theft from motor vehicle' 'Other unlawful entry with intent'\n",
      " 'Theft/Illegal Use of MV' 'Serious Assault not resulting in injury'\n",
      " 'Graffiti' 'Aggravated robbery' 'Assault police'\n",
      " 'Other fraud, deception and related offences' 'Aggravated sexual assault'\n",
      " 'Non-aggravated sexual assault' 'Non-assaultive sexual offences'\n",
      " 'Receive or handle proceeds of crime' 'Threatening behaviour'\n",
      " 'Other acts intended to cause injury'\n",
      " 'Abduction, harassment and other offences' 'Non-aggravated robbery'\n",
      " 'Dangerous or negligent acts' 'Blackmail and extortion'\n",
      " 'Other homicide and related offences' 'Murder']\n",
      "\n",
      "\n",
      "offence_count : 27\n",
      "offence_count : [ 2  1  6  3  4  5  8  7  9 12 11 16 10 13 17 15 14 25 23 28 18 27 58 33\n",
      " 29 19 79]\n",
      "\n",
      "\n"
     ]
    }
   ],
   "source": [
    "for column in df.columns:\n",
    "    print(column + ' : ' + str(len(df[column].unique())))\n",
    "    if(len(df[column].unique()) < 100):\n",
    "        print(column + ' : ' + str(df[column].unique()))\n",
    "    print('\\n')"
   ]
  },
  {
   "cell_type": "code",
   "execution_count": 128,
   "metadata": {},
   "outputs": [
    {
     "name": "stdout",
     "output_type": "stream",
     "text": [
      "<class 'pandas.core.frame.DataFrame'>\n",
      "RangeIndex: 1116593 entries, 0 to 1116592\n",
      "Data columns (total 7 columns):\n",
      " #   Column                       Non-Null Count    Dtype         \n",
      "---  ------                       --------------    -----         \n",
      " 0   reported_date                1116593 non-null  datetime64[ns]\n",
      " 1   suburb_incident              1116593 non-null  object        \n",
      " 2   postcode_incident            1116593 non-null  object        \n",
      " 3   offence_level_1_description  1116593 non-null  object        \n",
      " 4   offence_level_2_description  1116593 non-null  object        \n",
      " 5   offence_level_3_description  1116593 non-null  object        \n",
      " 6   offence_count                1116593 non-null  int32         \n",
      "dtypes: datetime64[ns](1), int32(1), object(5)\n",
      "memory usage: 55.4+ MB\n"
     ]
    }
   ],
   "source": [
    "df.info()"
   ]
  },
  {
   "cell_type": "code",
   "execution_count": 158,
   "metadata": {},
   "outputs": [],
   "source": [
    "df['month'] = df['reported_date'].apply(lambda x:x.month)\n",
    "df['month'] = pd.to_datetime(df['month'], format='%m').dt.month_name().str.slice(stop=3)"
   ]
  },
  {
   "cell_type": "code",
   "execution_count": 161,
   "metadata": {},
   "outputs": [],
   "source": [
    "df['year'] = df['reported_date'].apply(lambda x:x.year)\n",
    "# df['month'] = pd.to_datetime(df['month'], format='%m').dt.month_name().str.slice(stop=3)"
   ]
  },
  {
   "cell_type": "code",
   "execution_count": 162,
   "metadata": {},
   "outputs": [
    {
     "data": {
      "text/html": [
       "<div>\n",
       "<style scoped>\n",
       "    .dataframe tbody tr th:only-of-type {\n",
       "        vertical-align: middle;\n",
       "    }\n",
       "\n",
       "    .dataframe tbody tr th {\n",
       "        vertical-align: top;\n",
       "    }\n",
       "\n",
       "    .dataframe thead th {\n",
       "        text-align: right;\n",
       "    }\n",
       "</style>\n",
       "<table border=\"1\" class=\"dataframe\">\n",
       "  <thead>\n",
       "    <tr style=\"text-align: right;\">\n",
       "      <th></th>\n",
       "      <th>reported_date</th>\n",
       "      <th>suburb_incident</th>\n",
       "      <th>postcode_incident</th>\n",
       "      <th>offence_level_1_description</th>\n",
       "      <th>offence_level_2_description</th>\n",
       "      <th>offence_level_3_description</th>\n",
       "      <th>offence_count</th>\n",
       "      <th>month</th>\n",
       "      <th>year</th>\n",
       "    </tr>\n",
       "  </thead>\n",
       "  <tbody>\n",
       "    <tr>\n",
       "      <th>0</th>\n",
       "      <td>2010-07-01</td>\n",
       "      <td>ADELAIDE</td>\n",
       "      <td>5000</td>\n",
       "      <td>OFFENCES AGAINST PROPERTY</td>\n",
       "      <td>FRAUD DECEPTION AND RELATED OFFENCES</td>\n",
       "      <td>Obtain benefit by deception</td>\n",
       "      <td>2</td>\n",
       "      <td>Jul</td>\n",
       "      <td>2010</td>\n",
       "    </tr>\n",
       "    <tr>\n",
       "      <th>1</th>\n",
       "      <td>2010-07-01</td>\n",
       "      <td>ADELAIDE</td>\n",
       "      <td>5000</td>\n",
       "      <td>OFFENCES AGAINST PROPERTY</td>\n",
       "      <td>PROPERTY DAMAGE AND ENVIRONMENTAL</td>\n",
       "      <td>Other property damage and environmental</td>\n",
       "      <td>2</td>\n",
       "      <td>Jul</td>\n",
       "      <td>2010</td>\n",
       "    </tr>\n",
       "    <tr>\n",
       "      <th>2</th>\n",
       "      <td>2010-07-01</td>\n",
       "      <td>ADELAIDE</td>\n",
       "      <td>5000</td>\n",
       "      <td>OFFENCES AGAINST PROPERTY</td>\n",
       "      <td>SERIOUS CRIMINAL TRESPASS</td>\n",
       "      <td>SCT - Non Residence</td>\n",
       "      <td>1</td>\n",
       "      <td>Jul</td>\n",
       "      <td>2010</td>\n",
       "    </tr>\n",
       "    <tr>\n",
       "      <th>3</th>\n",
       "      <td>2010-07-01</td>\n",
       "      <td>ADELAIDE</td>\n",
       "      <td>5000</td>\n",
       "      <td>OFFENCES AGAINST PROPERTY</td>\n",
       "      <td>THEFT AND RELATED OFFENCES</td>\n",
       "      <td>Other theft</td>\n",
       "      <td>6</td>\n",
       "      <td>Jul</td>\n",
       "      <td>2010</td>\n",
       "    </tr>\n",
       "    <tr>\n",
       "      <th>4</th>\n",
       "      <td>2010-07-01</td>\n",
       "      <td>ADELAIDE</td>\n",
       "      <td>5000</td>\n",
       "      <td>OFFENCES AGAINST PROPERTY</td>\n",
       "      <td>THEFT AND RELATED OFFENCES</td>\n",
       "      <td>Theft from shop</td>\n",
       "      <td>3</td>\n",
       "      <td>Jul</td>\n",
       "      <td>2010</td>\n",
       "    </tr>\n",
       "    <tr>\n",
       "      <th>...</th>\n",
       "      <td>...</td>\n",
       "      <td>...</td>\n",
       "      <td>...</td>\n",
       "      <td>...</td>\n",
       "      <td>...</td>\n",
       "      <td>...</td>\n",
       "      <td>...</td>\n",
       "      <td>...</td>\n",
       "      <td>...</td>\n",
       "    </tr>\n",
       "    <tr>\n",
       "      <th>1116588</th>\n",
       "      <td>2022-06-30</td>\n",
       "      <td>WHYALLA STUART</td>\n",
       "      <td>5608</td>\n",
       "      <td>OFFENCES AGAINST PROPERTY</td>\n",
       "      <td>SERIOUS CRIMINAL TRESPASS</td>\n",
       "      <td>Other unlawful entry with intent</td>\n",
       "      <td>1</td>\n",
       "      <td>Jun</td>\n",
       "      <td>2022</td>\n",
       "    </tr>\n",
       "    <tr>\n",
       "      <th>1116589</th>\n",
       "      <td>2022-06-30</td>\n",
       "      <td>WILLASTON</td>\n",
       "      <td>5118</td>\n",
       "      <td>OFFENCES AGAINST PROPERTY</td>\n",
       "      <td>PROPERTY DAMAGE AND ENVIRONMENTAL</td>\n",
       "      <td>Other property damage and environmental</td>\n",
       "      <td>1</td>\n",
       "      <td>Jun</td>\n",
       "      <td>2022</td>\n",
       "    </tr>\n",
       "    <tr>\n",
       "      <th>1116590</th>\n",
       "      <td>2022-06-30</td>\n",
       "      <td>WILLASTON</td>\n",
       "      <td>5118</td>\n",
       "      <td>OFFENCES AGAINST THE PERSON</td>\n",
       "      <td>ACTS INTENDED TO CAUSE INJURY</td>\n",
       "      <td>Serious Assault resulting in injury</td>\n",
       "      <td>1</td>\n",
       "      <td>Jun</td>\n",
       "      <td>2022</td>\n",
       "    </tr>\n",
       "    <tr>\n",
       "      <th>1116591</th>\n",
       "      <td>2022-06-30</td>\n",
       "      <td>WOODCROFT</td>\n",
       "      <td>5162</td>\n",
       "      <td>OFFENCES AGAINST PROPERTY</td>\n",
       "      <td>THEFT AND RELATED OFFENCES</td>\n",
       "      <td>Theft from motor vehicle</td>\n",
       "      <td>1</td>\n",
       "      <td>Jun</td>\n",
       "      <td>2022</td>\n",
       "    </tr>\n",
       "    <tr>\n",
       "      <th>1116592</th>\n",
       "      <td>2022-06-30</td>\n",
       "      <td>WOODVILLE NORTH</td>\n",
       "      <td>5012</td>\n",
       "      <td>OFFENCES AGAINST PROPERTY</td>\n",
       "      <td>THEFT AND RELATED OFFENCES</td>\n",
       "      <td>Other theft</td>\n",
       "      <td>1</td>\n",
       "      <td>Jun</td>\n",
       "      <td>2022</td>\n",
       "    </tr>\n",
       "  </tbody>\n",
       "</table>\n",
       "<p>1116593 rows × 9 columns</p>\n",
       "</div>"
      ],
      "text/plain": [
       "        reported_date  suburb_incident postcode_incident  \\\n",
       "0          2010-07-01         ADELAIDE              5000   \n",
       "1          2010-07-01         ADELAIDE              5000   \n",
       "2          2010-07-01         ADELAIDE              5000   \n",
       "3          2010-07-01         ADELAIDE              5000   \n",
       "4          2010-07-01         ADELAIDE              5000   \n",
       "...               ...              ...               ...   \n",
       "1116588    2022-06-30   WHYALLA STUART              5608   \n",
       "1116589    2022-06-30        WILLASTON              5118   \n",
       "1116590    2022-06-30        WILLASTON              5118   \n",
       "1116591    2022-06-30        WOODCROFT              5162   \n",
       "1116592    2022-06-30  WOODVILLE NORTH              5012   \n",
       "\n",
       "         offence_level_1_description           offence_level_2_description  \\\n",
       "0          OFFENCES AGAINST PROPERTY  FRAUD DECEPTION AND RELATED OFFENCES   \n",
       "1          OFFENCES AGAINST PROPERTY     PROPERTY DAMAGE AND ENVIRONMENTAL   \n",
       "2          OFFENCES AGAINST PROPERTY             SERIOUS CRIMINAL TRESPASS   \n",
       "3          OFFENCES AGAINST PROPERTY            THEFT AND RELATED OFFENCES   \n",
       "4          OFFENCES AGAINST PROPERTY            THEFT AND RELATED OFFENCES   \n",
       "...                              ...                                   ...   \n",
       "1116588    OFFENCES AGAINST PROPERTY             SERIOUS CRIMINAL TRESPASS   \n",
       "1116589    OFFENCES AGAINST PROPERTY     PROPERTY DAMAGE AND ENVIRONMENTAL   \n",
       "1116590  OFFENCES AGAINST THE PERSON         ACTS INTENDED TO CAUSE INJURY   \n",
       "1116591    OFFENCES AGAINST PROPERTY            THEFT AND RELATED OFFENCES   \n",
       "1116592    OFFENCES AGAINST PROPERTY            THEFT AND RELATED OFFENCES   \n",
       "\n",
       "                     offence_level_3_description  offence_count month  year  \n",
       "0                    Obtain benefit by deception              2   Jul  2010  \n",
       "1        Other property damage and environmental              2   Jul  2010  \n",
       "2                            SCT - Non Residence              1   Jul  2010  \n",
       "3                                    Other theft              6   Jul  2010  \n",
       "4                                Theft from shop              3   Jul  2010  \n",
       "...                                          ...            ...   ...   ...  \n",
       "1116588         Other unlawful entry with intent              1   Jun  2022  \n",
       "1116589  Other property damage and environmental              1   Jun  2022  \n",
       "1116590      Serious Assault resulting in injury              1   Jun  2022  \n",
       "1116591                 Theft from motor vehicle              1   Jun  2022  \n",
       "1116592                              Other theft              1   Jun  2022  \n",
       "\n",
       "[1116593 rows x 9 columns]"
      ]
     },
     "execution_count": 162,
     "metadata": {},
     "output_type": "execute_result"
    }
   ],
   "source": [
    "df"
   ]
  },
  {
   "cell_type": "code",
   "execution_count": 163,
   "metadata": {},
   "outputs": [
    {
     "name": "stderr",
     "output_type": "stream",
     "text": [
      "c:\\Users\\kmedr\\anaconda3\\envs\\omdenaMUV\\lib\\site-packages\\sweetviz\\dataframe_report.py:74: FutureWarning: iteritems is deprecated and will be removed in a future version. Use .items instead.\n",
      "  all_source_names = [cur_name for cur_name, cur_series in source_df.iteritems()]\n",
      "c:\\Users\\kmedr\\anaconda3\\envs\\omdenaMUV\\lib\\site-packages\\sweetviz\\dataframe_report.py:109: FutureWarning: iteritems is deprecated and will be removed in a future version. Use .items instead.\n",
      "  filtered_series_names_in_source = [cur_name for cur_name, cur_series in source_df.iteritems()\n"
     ]
    },
    {
     "data": {
      "application/vnd.jupyter.widget-view+json": {
       "model_id": "dd862294029a4322bd5ae317236caa3a",
       "version_major": 2,
       "version_minor": 0
      },
      "text/plain": [
       "                                             |          | [  0%]   00:00 -> (? left)"
      ]
     },
     "metadata": {},
     "output_type": "display_data"
    },
    {
     "name": "stderr",
     "output_type": "stream",
     "text": [
      "c:\\Users\\kmedr\\anaconda3\\envs\\omdenaMUV\\lib\\site-packages\\sweetviz\\series_analyzer_text.py:19: FutureWarning: iteritems is deprecated and will be removed in a future version. Use .items instead.\n",
      "  for item in to_process.source_counts[\"value_counts_without_nan\"].iteritems():\n",
      "c:\\Users\\kmedr\\anaconda3\\envs\\omdenaMUV\\lib\\site-packages\\sweetviz\\series_analyzer_text.py:19: FutureWarning: iteritems is deprecated and will be removed in a future version. Use .items instead.\n",
      "  for item in to_process.source_counts[\"value_counts_without_nan\"].iteritems():\n",
      "c:\\Users\\kmedr\\anaconda3\\envs\\omdenaMUV\\lib\\site-packages\\sweetviz\\series_analyzer_text.py:19: FutureWarning: iteritems is deprecated and will be removed in a future version. Use .items instead.\n",
      "  for item in to_process.source_counts[\"value_counts_without_nan\"].iteritems():\n",
      "c:\\Users\\kmedr\\anaconda3\\envs\\omdenaMUV\\lib\\site-packages\\sweetviz\\series_analyzer_cat.py:28: FutureWarning: iteritems is deprecated and will be removed in a future version. Use .items instead.\n",
      "  for item in category_counts.iteritems():\n",
      "c:\\Users\\kmedr\\anaconda3\\envs\\omdenaMUV\\lib\\site-packages\\sweetviz\\series_analyzer_cat.py:28: FutureWarning: iteritems is deprecated and will be removed in a future version. Use .items instead.\n",
      "  for item in category_counts.iteritems():\n",
      "c:\\Users\\kmedr\\anaconda3\\envs\\omdenaMUV\\lib\\site-packages\\sweetviz\\series_analyzer_cat.py:28: FutureWarning: iteritems is deprecated and will be removed in a future version. Use .items instead.\n",
      "  for item in category_counts.iteritems():\n",
      "c:\\Users\\kmedr\\anaconda3\\envs\\omdenaMUV\\lib\\site-packages\\sweetviz\\series_analyzer_numeric.py:25: FutureWarning: The 'mad' method is deprecated and will be removed in a future version. To compute the same result, you may do `(df - df.mean()).abs().mean()`.\n",
      "  stats[\"mad\"] = series.mad()\n",
      "c:\\Users\\kmedr\\anaconda3\\envs\\omdenaMUV\\lib\\site-packages\\sweetviz\\series_analyzer_cat.py:28: FutureWarning: iteritems is deprecated and will be removed in a future version. Use .items instead.\n",
      "  for item in category_counts.iteritems():\n",
      "c:\\Users\\kmedr\\anaconda3\\envs\\omdenaMUV\\lib\\site-packages\\sweetviz\\series_analyzer_numeric.py:25: FutureWarning: The 'mad' method is deprecated and will be removed in a future version. To compute the same result, you may do `(df - df.mean()).abs().mean()`.\n",
      "  stats[\"mad\"] = series.mad()\n"
     ]
    },
    {
     "name": "stdout",
     "output_type": "stream",
     "text": [
      "Report SWEETVIZ_REPORT.html was generated! NOTEBOOK/COLAB USERS: the web browser MAY not pop up, regardless, the report IS saved in your notebook/colab files.\n"
     ]
    }
   ],
   "source": [
    "# produce the sweetviz report\n",
    "report = sv.analyze(df)\n",
    "report.show_html()"
   ]
  }
 ],
 "metadata": {
  "kernelspec": {
   "display_name": "Python 3.10.8 ('omdenaMUV')",
   "language": "python",
   "name": "python3"
  },
  "language_info": {
   "codemirror_mode": {
    "name": "ipython",
    "version": 3
   },
   "file_extension": ".py",
   "mimetype": "text/x-python",
   "name": "python",
   "nbconvert_exporter": "python",
   "pygments_lexer": "ipython3",
   "version": "3.10.8"
  },
  "orig_nbformat": 4,
  "vscode": {
   "interpreter": {
    "hash": "2ad9995ce2fe3e9ff32711e5efae8e94e766b237c44985184cf69069b8f0de50"
   }
  }
 },
 "nbformat": 4,
 "nbformat_minor": 2
}
